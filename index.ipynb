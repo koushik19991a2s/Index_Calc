{
 "cells": [
  {
   "cell_type": "code",
   "execution_count": 11,
   "id": "3f54c284",
   "metadata": {},
   "outputs": [
    {
     "name": "stdout",
     "output_type": "stream",
     "text": [
      "complete the process\n"
     ]
    }
   ],
   "source": [
    "#import the libraries\n",
    "import rasterio\n",
    "import numpy as np\n",
    "#input of Landsat image\n",
    "landsat_image = r\"E:/Python_Tutorial/Landsat/landsat_2023.tif\"\n",
    "#set output folder for indices\n",
    "bai_output = r\"E:/Python_Tutorial/Landsat/bai_2023.tif\"\n",
    "nbr_output = r\"E:/Python_Tutorial/Landsat/nb_2023.tif\"\n",
    "ndvi_output = r\"E:/Python_Tutorial/Landsat/ndvi_2023.tif\"\n",
    "msavi_output = r\"E:/Python_Tutorial/Landsat/msavi_2023.tif\"\n",
    "#open the landsat stack image using rasterio\n",
    "with rasterio.open(landsat_image) as src:\n",
    "    #read image bands\n",
    "    red = src.read(4).astype(np.float32)\n",
    "    nir = src.read(5).astype(np.float32)\n",
    "    swir = src.read(6).astype(np.float32)\n",
    "    \n",
    "    # Calculate BAI (Burn Area Index)\n",
    "    bai = ((swir + red) - (nir + 0.1)) / ((swir + red) + (nir + 0.1))\n",
    "    # Normalize BAI to the range [0, 1]\n",
    "    bai = (bai - np.min(bai)) / (np.max(bai) - np.min(bai))\n",
    "    # Calculate NBR (Normalized Burn Ratio)\n",
    "    nbr = (nir - swir) / (nir + swir)\n",
    "    # Calculate NDVI (Normalized Difference Vegetation Index)\n",
    "    ndvi = (nir - red) / (nir + red)\n",
    "    # Calculate MSAVI (Modified Soil-Adjusted Vegetation Index)\n",
    "    msavi = (2 * nir + 1 - np.sqrt((2 * nir + 1) ** 2 - 8 * (nir - red))) / 2\n",
    "\n",
    "    # Prepare metadata for the output files\n",
    "    profile = src.profile\n",
    "    profile.update(dtype=rasterio.float32, count=1)\n",
    "    \n",
    "    # Save the vegetation indices to the output paths\n",
    "    with rasterio.open(bai_output, 'w', **profile) as dst:\n",
    "        dst.write(np.expand_dims(bai, axis=0))\n",
    "\n",
    "    with rasterio.open(nbr_output, 'w', **profile) as dst:\n",
    "        dst.write(np.expand_dims(nbr, axis=0))\n",
    "\n",
    "    with rasterio.open(ndvi_output, 'w', **profile) as dst:\n",
    "        dst.write(np.expand_dims(ndvi, axis=0))\n",
    "\n",
    "    with rasterio.open(msavi_output, 'w', **profile) as dst:\n",
    "        dst.write(np.expand_dims(msavi, axis=0))\n",
    "        \n",
    "print(\"complete the process\")\n"
   ]
  },
  {
   "cell_type": "code",
   "execution_count": null,
   "id": "5c65b573",
   "metadata": {},
   "outputs": [],
   "source": []
  }
 ],
 "metadata": {
  "kernelspec": {
   "display_name": "Python 3",
   "language": "python",
   "name": "python3"
  },
  "language_info": {
   "codemirror_mode": {
    "name": "ipython",
    "version": 3
   },
   "file_extension": ".py",
   "mimetype": "text/x-python",
   "name": "python",
   "nbconvert_exporter": "python",
   "pygments_lexer": "ipython3",
   "version": "3.8.8"
  }
 },
 "nbformat": 4,
 "nbformat_minor": 5
}
